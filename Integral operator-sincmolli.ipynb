{
 "cells": [
  {
   "cell_type": "code",
   "execution_count": 1,
   "metadata": {},
   "outputs": [],
   "source": [
    "import numpy as np\n",
    "import scipy.integrate as integrate\n",
    "import scipy.special as special"
   ]
  },
  {
   "cell_type": "code",
   "execution_count": null,
   "metadata": {},
   "outputs": [],
   "source": [
    "def f(x):\n",
    "    if x <= 0.5:\n",
    "        return np.sin(x*3)\n",
    "    else:\n",
    "        return np.sin((1-x)*3)\n"
   ]
  },
  {
   "cell_type": "code",
   "execution_count": 2,
   "metadata": {},
   "outputs": [],
   "source": [
    "def f(x):\n",
    "    if x < 0.25:\n",
    "        return x\n",
    "    elif x >= 0.25 and x <= 0.5:\n",
    "        return x+0.5\n",
    "    else:\n",
    "        return 1-(x-0.5)*2"
   ]
  },
  {
   "cell_type": "code",
   "execution_count": 3,
   "metadata": {},
   "outputs": [],
   "source": [
    "def heat_kernel(x, y, gamma, d):\n",
    "    return ((2*np.pi)**(-d/2))*(gamma**(-d))*np.exp((-(x-y)**2)/(2*gamma**2))"
   ]
  },
  {
   "cell_type": "code",
   "execution_count": 8,
   "metadata": {},
   "outputs": [],
   "source": [
    "def sinc(x,y,gamma,d):\n",
    "    return ((gamma/np.pi)**(d))*np.sinc(gamma*(x-y)*(np.pi**(-1)))"
   ]
  },
  {
   "cell_type": "code",
   "execution_count": 25,
   "metadata": {},
   "outputs": [],
   "source": [
    "N = 1000\n",
    "grid = np.arange(0,1,1/N)#datagrid\n"
   ]
  },
  {
   "cell_type": "code",
   "execution_count": 26,
   "metadata": {},
   "outputs": [],
   "source": [
    "\n",
    "matrix = np.zeros((N, N))\n",
    "\n",
    "for i in range(0,N):\n",
    "    for j in range(0,N):\n",
    "        if i < j:\n",
    "            matrix[i,j] = grid[i]\n",
    "        else:\n",
    "            matrix[i,j] = grid[j]\n",
    "        "
   ]
  },
  {
   "cell_type": "code",
   "execution_count": 27,
   "metadata": {},
   "outputs": [],
   "source": [
    "gamma = 0.01\n",
    "#calculation of the right hand side of the normal equation\n",
    "n = 100\n",
    "grid_ = np.arange(0,1,1/n)#recongrid\n",
    "norm_dat = np.zeros((N,n))\n",
    "for j in range(0,n):#size of the recon_grid\n",
    "    tmp = np.zeros((N))\n",
    "    for i in range(0,N):\n",
    "        #tmp[i] = integrate.quad(lambda y: heat_kernel(grid_[j], y, gamma, 1), 0, grid[i])[0]#\n",
    "        tmp[i] = integrate.fixed_quad(sinc, 0, grid[i], (grid_[j], gamma, 1), 120)[0]\n",
    "        #tmp[i] = integrate.quadrature(heat_kernel, 0, grid[i], (grid_[j], gamma, 1), tol=0.02, maxiter=70)[0]\n",
    "    norm_dat[:,j] = tmp\n"
   ]
  },
  {
   "cell_type": "code",
   "execution_count": 28,
   "metadata": {},
   "outputs": [],
   "source": [
    "theta = 0.001\n",
    "recon_kernel_grid = np.zeros((N,n))\n",
    "\n",
    "recon_kernel_grid = np.linalg.solve(matrix+theta*np.eye(N), norm_dat)\n"
   ]
  },
  {
   "cell_type": "code",
   "execution_count": 29,
   "metadata": {
    "scrolled": true
   },
   "outputs": [
    {
     "name": "stdout",
     "output_type": "stream",
     "text": [
      "0.0\n"
     ]
    }
   ],
   "source": [
    "data = []\n",
    "for i in range(0,N):\n",
    "    data.append(integrate.quad(lambda x: f(x), 0, grid[i])[0])\n",
    "data = np.array(data)\n",
    "\n",
    "g = data\n",
    "print(np.linalg.norm(g-data)/np.linalg.norm(data))\n",
    "g = np.reshape(g, (N,1))"
   ]
  },
  {
   "cell_type": "code",
   "execution_count": 30,
   "metadata": {},
   "outputs": [],
   "source": [
    "gamma = 0.039\n",
    "#calculation of the right hand side of the normal equation\n",
    "n = 100\n",
    "grid_ = np.arange(0,1,1/n)#recongrid\n",
    "norm_dat_ = np.zeros((N,n))\n",
    "for j in range(0,n):#size of the recon_grid\n",
    "    tmp = np.zeros((N))\n",
    "    for i in range(0,N):\n",
    "        #tmp[i] = integrate.quad(lambda y: heat_kernel(grid_[j], y, gamma, 1), 0, grid[i])[0]#\n",
    "        tmp[i] = integrate.fixed_quad(sinc, 0, grid[i], (grid_[j], gamma, 1), 120)[0]\n",
    "        #tmp[i] = integrate.quadrature(heat_kernel, 0, grid[i], (grid_[j], gamma, 1), tol=0.02, maxiter=70)[0]\n",
    "    norm_dat_[:,j] = tmp\n"
   ]
  },
  {
   "cell_type": "code",
   "execution_count": 31,
   "metadata": {},
   "outputs": [
    {
     "name": "stdout",
     "output_type": "stream",
     "text": [
      "[[0.00000000e+00 0.00000000e+00 0.00000000e+00 ... 0.00000000e+00\n",
      "  0.00000000e+00 0.00000000e+00]\n",
      " [1.24140856e-05 1.24140853e-05 1.24140844e-05 ... 1.24111278e-05\n",
      "  1.24110665e-05 1.24110046e-05]\n",
      " [2.48281711e-05 2.48281706e-05 2.48281688e-05 ... 2.48222618e-05\n",
      "  2.48221392e-05 2.48220153e-05]\n",
      " ...\n",
      " [1.23758038e-02 1.23758347e-02 1.23758651e-02 ... 1.23758859e-02\n",
      "  1.23758560e-02 1.23758255e-02]\n",
      " [1.23882147e-02 1.23882458e-02 1.23882762e-02 ... 1.23883000e-02\n",
      "  1.23882701e-02 1.23882396e-02]\n",
      " [1.24006257e-02 1.24006568e-02 1.24006872e-02 ... 1.24007141e-02\n",
      "  1.24006842e-02 1.24006537e-02]]\n"
     ]
    }
   ],
   "source": [
    "print(norm_dat_)"
   ]
  },
  {
   "cell_type": "code",
   "execution_count": 32,
   "metadata": {},
   "outputs": [],
   "source": [
    "theta = 0.001\n",
    "recon_kernel_grid_ = np.zeros((N,n))\n",
    "\n",
    "recon_kernel_grid_ = np.linalg.solve(matrix+theta*np.eye(N), norm_dat_)\n"
   ]
  },
  {
   "cell_type": "code",
   "execution_count": 33,
   "metadata": {},
   "outputs": [
    {
     "name": "stdout",
     "output_type": "stream",
     "text": [
      "0.05\n"
     ]
    }
   ],
   "source": [
    "epsilon = (np.random.rand(1,N)-0.5)\n",
    "epsilon = np.reshape(epsilon, (N))\n",
    "epsilon = (epsilon/np.linalg.norm(epsilon))*np.linalg.norm(data)*0.05\n",
    "g_ = data+epsilon\n",
    "print(np.linalg.norm(g_-data)/np.linalg.norm(data))\n",
    "g_ = np.reshape(g_, (N,1))"
   ]
  },
  {
   "cell_type": "code",
   "execution_count": 34,
   "metadata": {},
   "outputs": [],
   "source": [
    "\n",
    "solution_grid = np.transpose(g)@recon_kernel_grid\n",
    "solution_grid_ = np.transpose(g_)@recon_kernel_grid_\n"
   ]
  },
  {
   "cell_type": "code",
   "execution_count": 35,
   "metadata": {},
   "outputs": [
    {
     "data": {
      "text/plain": [
       "<matplotlib.legend.Legend at 0x7f6c728afe90>"
      ]
     },
     "execution_count": 35,
     "metadata": {},
     "output_type": "execute_result"
    },
    {
     "data": {
      "image/png": "[encoded data removed]",
      "text/plain": [
       "<Figure size 432x288 with 1 Axes>"
      ]
     },
     "metadata": {
      "needs_background": "light"
     },
     "output_type": "display_data"
    }
   ],
   "source": [
    "import matplotlib.pyplot as plt\n",
    "solution_grid_ = np.reshape(solution_grid_, (n))\n",
    "\n",
    "plt.plot(grid_, solution_grid_, label='Exact solution')\n",
    "true_function = []\n",
    "for val in grid_:\n",
    "    true_function.append(f(val))\n",
    "plt.plot(grid_, true_function, label='Original function')\n",
    "plt.xlabel('x-Value')\n",
    "plt.ylabel('Function value')\n",
    "plt.legend()\n"
   ]
  },
  {
   "cell_type": "code",
   "execution_count": 19,
   "metadata": {},
   "outputs": [
    {
     "data": {
      "image/png": "[encoded data removed]",
      "text/plain": [
       "<Figure size 540x216 with 2 Axes>"
      ]
     },
     "metadata": {
      "needs_background": "light"
     },
     "output_type": "display_data"
    }
   ],
   "source": [
    "import matplotlib.pyplot as plt\n",
    "solution_grid = np.reshape(solution_grid, (n))\n",
    "solution_grid_ = np.reshape(solution_grid_, (n))\n",
    "fig, axs = plt.subplots(1, 2, figsize=(7.5, 3), sharey=True)\n",
    "fig.subplots_adjust(bottom=0.2,right=0.93)\n",
    "axs[0].plot(grid_, solution_grid, label='Exact solution')\n",
    "axs[0].plot(grid_, true_function, label='Original function')\n",
    "axs[1].plot(grid_, solution_grid_, label='Solution with 5% noise')\n",
    "axs[1].plot(grid_, true_function, label='Original function')\n",
    "\n",
    "axs[0].set_xlabel('x-value')\n",
    "axs[0].set_ylabel('Function value')\n",
    "axs[1].set_xlabel('x-value')\n",
    "axs[0].legend()\n",
    "axs[1].legend()\n",
    "#fig.legend()\n",
    "plt.savefig('func_test', format='pdf')"
   ]
  },
  {
   "cell_type": "code",
   "execution_count": null,
   "metadata": {},
   "outputs": [],
   "source": [
    "values = np.arange(0.0005,0.05,0.0005)\n",
    "error = []\n",
    "for gamma in values:\n",
    "    #calculation of the right hand side of the normal equation\n",
    "    n = 100\n",
    "    grid_ = np.arange(0,1,1/n)#recongrid\n",
    "    norm_dat = np.zeros((N,n))\n",
    "    for j in range(0,n):#size of the recon_grid\n",
    "        tmp = np.zeros((N))\n",
    "        for i in range(0,N):\n",
    "            #tmp[i] = integrate.quad(lambda y: heat_kernel(grid_[j], y, gamma, 1), 0, grid[i])[0]#\n",
    "            tmp[i] = integrate.fixed_quad(heat_kernel, 0, grid[i], (grid_[j], gamma, 1), 70)[0]\n",
    "            #tmp[i] = integrate.quadrature(heat_kernel, 0, grid[i], (grid_[j], gamma, 1), tol=0.02, maxiter=70)[0]\n",
    "        norm_dat[:,j] = tmp\n",
    "    #####\n",
    "    theta = 0.001\n",
    "    recon_kernel_grid = np.zeros((N,n))\n",
    "\n",
    "    recon_kernel_grid = np.linalg.solve(matrix+theta*np.eye(N), norm_dat)\n",
    "    #####\n",
    "    epsilon = (np.random.rand(1,N)-0.5)\n",
    "    ###\n",
    "    data = []\n",
    "    for i in range(0,N):\n",
    "        data.append(integrate.quad(lambda x: f(x), 0, grid[i])[0])\n",
    "    data = np.array(data)\n",
    "    epsilon = np.reshape(epsilon, (N))\n",
    "    epsilon = (epsilon/np.linalg.norm(epsilon))*np.linalg.norm(g)*0.00\n",
    "    g = data+epsilon\n",
    "    g = np.reshape(g, (N,1))\n",
    "    \n",
    "    solution_grid = np.transpose(g)@recon_kernel_grid\n",
    "    solution_grid = np.reshape(solution_grid, (n))\n",
    "    true_function = []\n",
    "    for val in grid_:\n",
    "        true_function.append(f(val))\n",
    "    error.append(np.linalg.norm(np.array(true_function)-solution_grid))"
   ]
  },
  {
   "cell_type": "code",
   "execution_count": null,
   "metadata": {},
   "outputs": [],
   "source": [
    "values_ = np.arange(0.0001,0.1,0.001)\n",
    "error_ = []\n",
    "for gamma in values_:\n",
    "    #calculation of the right hand side of the normal equation\n",
    "    n = 100\n",
    "    grid_ = np.arange(0,1,1/n)#recongrid\n",
    "    norm_dat = np.zeros((N,n))\n",
    "    for j in range(0,n):#size of the recon_grid\n",
    "        tmp = np.zeros((N))\n",
    "        for i in range(0,N):\n",
    "            #tmp[i] = integrate.quad(lambda y: heat_kernel(grid_[j], y, gamma, 1), 0, grid[i])[0]#\n",
    "            tmp[i] = integrate.fixed_quad(heat_kernel, 0, grid[i], (grid_[j], gamma, 1), 70)[0]\n",
    "            #tmp[i] = integrate.quadrature(heat_kernel, 0, grid[i], (grid_[j], gamma, 1), tol=0.02, maxiter=70)[0]\n",
    "        norm_dat[:,j] = tmp\n",
    "    #####\n",
    "    theta = 0.001\n",
    "    recon_kernel_grid = np.zeros((N,n))\n",
    "\n",
    "    recon_kernel_grid = np.linalg.solve(matrix+theta*np.eye(N), norm_dat)\n",
    "    #####\n",
    "    epsilon = (np.random.rand(1,N)-0.5)\n",
    "    ###\n",
    "    data = []\n",
    "    for i in range(0,N):\n",
    "        data.append(integrate.quad(lambda x: f(x), 0, grid[i])[0])\n",
    "    data = np.array(data)\n",
    "    epsilon = np.reshape(epsilon, (N))\n",
    "    epsilon = (epsilon/np.linalg.norm(epsilon))*np.linalg.norm(g)*0.05\n",
    "    g = data+epsilon\n",
    "    g = np.reshape(g, (N,1))\n",
    "    \n",
    "    solution_grid = np.transpose(g)@recon_kernel_grid\n",
    "    solution_grid = np.reshape(solution_grid, (n))\n",
    "    true_function = []\n",
    "    for val in grid_:\n",
    "        true_function.append(f(val))\n",
    "    error_.append(np.linalg.norm(np.array(true_function)-solution_grid))"
   ]
  },
  {
   "cell_type": "code",
   "execution_count": null,
   "metadata": {},
   "outputs": [],
   "source": [
    "\n",
    "fig, axs = plt.subplots(1, 2, figsize=(7.5, 3))\n",
    "fig.subplots_adjust(bottom=0.2,right=0.93)\n",
    "axs[0].plot(values[5::], error[5::], label='Exact')\n",
    "\n",
    "axs[1].plot(values_[10::], error_[10::], label='5% noise')\n",
    "\n",
    "\n",
    "axs[0].set_xlabel('Gamma')\n",
    "axs[0].set_ylabel('Norm error')\n",
    "axs[1].set_xlabel('Gamma')\n",
    "\n",
    "axs[0].legend()\n",
    "axs[1].legend()\n",
    "#fig.legend()\n",
    "plt.savefig('gamma_optim', format='pdf')"
   ]
  }
 ],
 "metadata": {
  "kernelspec": {
   "display_name": "Python 3",
   "language": "python",
   "name": "python3"
  },
  "language_info": {
   "codemirror_mode": {
    "name": "ipython",
    "version": 3
   },
   "file_extension": ".py",
   "mimetype": "text/x-python",
   "name": "python",
   "nbconvert_exporter": "python",
   "pygments_lexer": "ipython3",
   "version": "3.7.4"
  }
 },
 "nbformat": 4,
 "nbformat_minor": 2
}
