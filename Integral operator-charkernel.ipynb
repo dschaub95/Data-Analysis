{
 "cells": [
  {
   "cell_type": "code",
   "execution_count": 1,
   "metadata": {},
   "outputs": [],
   "source": [
    "import numpy as np\n",
    "import scipy.integrate as integrate\n",
    "import scipy.special as special"
   ]
  },
  {
   "cell_type": "code",
   "execution_count": 279,
   "metadata": {},
   "outputs": [],
   "source": [
    "def f(x):\n",
    "    if x <= 0.5:\n",
    "        return np.sin(x*3)\n",
    "    else:\n",
    "        return np.sin((1-x)*3)\n"
   ]
  },
  {
   "cell_type": "code",
   "execution_count": 3,
   "metadata": {},
   "outputs": [],
   "source": [
    "def f(x):\n",
    "    if x < 0.25:\n",
    "        return x\n",
    "    elif x >= 0.25 and x <= 0.5:\n",
    "        return x+0.5\n",
    "    else:\n",
    "        return 1-(x-0.5)*2"
   ]
  },
  {
   "cell_type": "code",
   "execution_count": 4,
   "metadata": {},
   "outputs": [],
   "source": [
    "def char_func(x, z):\n",
    "    if x <= z:\n",
    "        return 1\n",
    "    else:\n",
    "        return 0"
   ]
  },
  {
   "cell_type": "code",
   "execution_count": 5,
   "metadata": {},
   "outputs": [],
   "source": [
    "def heat_kernel(x, y, gamma, d):\n",
    "    return ((2*np.pi)**(-d/2))*(gamma**(-d))*np.exp((-(x-y)**2)/(2*gamma**2))"
   ]
  },
  {
   "cell_type": "code",
   "execution_count": 6,
   "metadata": {},
   "outputs": [],
   "source": [
    "def char_moll(x, y, gamma):\n",
    "    if np.abs(x-y) <= gamma:\n",
    "        return 1/(2*gamma)\n",
    "    else:\n",
    "        return 0\n"
   ]
  },
  {
   "cell_type": "code",
   "execution_count": 42,
   "metadata": {},
   "outputs": [],
   "source": [
    "N = 5000\n",
    "grid = np.arange(0,1,1/N)#datagrid\n"
   ]
  },
  {
   "cell_type": "code",
   "execution_count": 43,
   "metadata": {},
   "outputs": [],
   "source": [
    "\n",
    "matrix = np.zeros((N, N))\n",
    "\n",
    "for i in range(0,N):\n",
    "    for j in range(0,N):\n",
    "        if i < j:\n",
    "            matrix[i,j] = grid[i]\n",
    "        else:\n",
    "            matrix[i,j] = grid[j]\n",
    "        "
   ]
  },
  {
   "cell_type": "code",
   "execution_count": 44,
   "metadata": {},
   "outputs": [],
   "source": [
    "gamma = 0.01\n",
    "#calculation of the right hand side of the normal equation\n",
    "n = 100\n",
    "grid_ = np.arange(0,1,1/n)\n",
    "norm_dat = np.zeros((N,n))\n",
    "for j in range(0,n):#size of the recon_grid\n",
    "    tmp = np.zeros((N))\n",
    "    for i in range(0,N):\n",
    "        if grid_[j] < grid[i]:\n",
    "            if grid_[j] > gamma and (grid[i]-grid_[j]) < gamma:\n",
    "                tmp[i] = (1/(2*gamma))*(gamma+(grid[i]-grid_[j]))\n",
    "            elif grid_[j] > gamma and (grid[i]-grid_[j]) >= gamma:\n",
    "                tmp[i] = 1\n",
    "            elif grid_[j] <= gamma and (grid[i]-grid_[j]) < gamma:\n",
    "                tmp[i] = (1/(2*gamma))*(grid_[j]+(grid[i]-grid_[j]))\n",
    "            else:\n",
    "                tmp[i] = (1/(2*gamma))*(grid_[j]+gamma)\n",
    "        elif grid_[j] >= grid[i]:\n",
    "            if grid[j] > gamma:\n",
    "                tmp[i] = (1/(2*gamma))*(gamma-(grid_[j]-grid[i]))\n",
    "            elif grid[j] <= gamma:\n",
    "                tmp[i] = (1/(2*gamma))*(grid_[j]-(grid_[j]-grid[i]))\n",
    "    norm_dat[:,j] = tmp"
   ]
  },
  {
   "cell_type": "code",
   "execution_count": 45,
   "metadata": {},
   "outputs": [],
   "source": [
    "theta = 0.001\n",
    "recon_kernel_grid = np.zeros((N,n))\n",
    "\n",
    "recon_kernel_grid = np.linalg.solve(matrix+theta*np.eye(N), norm_dat)\n"
   ]
  },
  {
   "cell_type": "code",
   "execution_count": null,
   "metadata": {},
   "outputs": [],
   "source": [
    "epsilon = []\n",
    "for i in range(0,N):\n",
    "    if i <= N/2:\n",
    "        epsilon.append((np.random.rand(1,1)-0.5)*2*0.05*(2*i/N))\n",
    "    else:\n",
    "        epsilon.append((np.random.rand(1,1)-0.5)*2*0.05*(2*((N/2)-i)/N))"
   ]
  },
  {
   "cell_type": "code",
   "execution_count": 46,
   "metadata": {},
   "outputs": [],
   "source": [
    "epsilon = []\n",
    "epsilon = (np.random.rand(1,N)-0.5)*2*0.00"
   ]
  },
  {
   "cell_type": "code",
   "execution_count": 48,
   "metadata": {},
   "outputs": [
    {
     "name": "stderr",
     "output_type": "stream",
     "text": [
      "/home/darius/anaconda3/lib/python3.7/site-packages/ipykernel_launcher.py:3: IntegrationWarning: The occurrence of roundoff error is detected, which prevents \n",
      "  the requested tolerance from being achieved.  The error may be \n",
      "  underestimated.\n",
      "  This is separate from the ipykernel package so we can avoid doing imports until\n"
     ]
    }
   ],
   "source": [
    "data = []\n",
    "for i in range(0,N):\n",
    "    data.append(integrate.quad(lambda x: f(x), 0, grid[i])[0])\n",
    "data = np.array(data)\n",
    "epsilon = np.array(epsilon)\n",
    "epsilon = np.reshape(epsilon, (N))\n",
    "g = data+epsilon\n",
    "g = np.reshape(g, (N,1))"
   ]
  },
  {
   "cell_type": "code",
   "execution_count": 49,
   "metadata": {},
   "outputs": [],
   "source": [
    "\n",
    "solution_grid = np.transpose(g)@recon_kernel_grid\n",
    "\n"
   ]
  },
  {
   "cell_type": "code",
   "execution_count": 50,
   "metadata": {},
   "outputs": [
    {
     "data": {
      "text/plain": [
       "[<matplotlib.lines.Line2D at 0x7f62c2fde8d0>]"
      ]
     },
     "execution_count": 50,
     "metadata": {},
     "output_type": "execute_result"
    },
    {
     "data": {
      "image/png": "[encoded data removed]",
      "text/plain": [
       "<Figure size 432x288 with 1 Axes>"
      ]
     },
     "metadata": {
      "needs_background": "light"
     },
     "output_type": "display_data"
    }
   ],
   "source": [
    "import matplotlib.pyplot as plt\n",
    "solution_grid = np.reshape(solution_grid, (n))\n",
    "plt.plot(grid_, solution_grid)\n",
    "true_function = []\n",
    "for val in grid_:\n",
    "    true_function.append(f(val))\n",
    "plt.plot(grid_, true_function)"
   ]
  },
  {
   "cell_type": "code",
   "execution_count": null,
   "metadata": {},
   "outputs": [],
   "source": []
  },
  {
   "cell_type": "code",
   "execution_count": null,
   "metadata": {},
   "outputs": [],
   "source": []
  }
 ],
 "metadata": {
  "kernelspec": {
   "display_name": "Python 3",
   "language": "python",
   "name": "python3"
  },
  "language_info": {
   "codemirror_mode": {
    "name": "ipython",
    "version": 3
   },
   "file_extension": ".py",
   "mimetype": "text/x-python",
   "name": "python",
   "nbconvert_exporter": "python",
   "pygments_lexer": "ipython3",
   "version": "3.7.4"
  }
 },
 "nbformat": 4,
 "nbformat_minor": 2
}
