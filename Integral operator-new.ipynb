{
 "cells": [
  {
   "cell_type": "code",
   "execution_count": 79,
   "metadata": {},
   "outputs": [],
   "source": [
    "import numpy as np\n",
    "import scipy.integrate as integrate\n",
    "import scipy.special as special"
   ]
  },
  {
   "cell_type": "code",
   "execution_count": 80,
   "metadata": {},
   "outputs": [],
   "source": [
    "def f(x):\n",
    "    if x < 0.25:\n",
    "        return x\n",
    "    elif x >= 0.25 and x <= 0.5:\n",
    "        return x+0.5\n",
    "    else:\n",
    "        return 1-(x-0.5)*2"
   ]
  },
  {
   "cell_type": "code",
   "execution_count": 81,
   "metadata": {},
   "outputs": [],
   "source": [
    "def f(x):\n",
    "    if x <= 0.5:\n",
    "        return np.sin(x*3)\n",
    "    else:\n",
    "        return np.sin((1-x)*3)\n"
   ]
  },
  {
   "cell_type": "code",
   "execution_count": 82,
   "metadata": {},
   "outputs": [],
   "source": [
    "def heat_kernel(x, y, gamma, d):\n",
    "    return ((2*np.pi)**(-d/2))*(gamma**(-d))*np.exp((-(x-y)**2)/(2*gamma**2))"
   ]
  },
  {
   "cell_type": "code",
   "execution_count": 83,
   "metadata": {},
   "outputs": [],
   "source": [
    "N = 1000\n",
    "grid = np.arange(1/N,1,1/N)#datagrid\n"
   ]
  },
  {
   "cell_type": "code",
   "execution_count": 84,
   "metadata": {},
   "outputs": [],
   "source": [
    "N = 999\n",
    "matrix = np.zeros((N, N))\n",
    "\n",
    "for i in range(0,N):\n",
    "    for j in range(0,N):\n",
    "        if i < j:\n",
    "            matrix[i,j] = grid[i]\n",
    "        else:\n",
    "            matrix[i,j] = grid[j]\n",
    "        "
   ]
  },
  {
   "cell_type": "code",
   "execution_count": 85,
   "metadata": {},
   "outputs": [],
   "source": [
    "gamma = 0.01\n",
    "#calculation of the right hand side of the normal equation\n",
    "n = 100\n",
    "grid_ = np.arange(0,1,1/n)#recongrid\n",
    "norm_dat = np.zeros((N,n))\n",
    "for j in range(0,n):#size of the recon_grid\n",
    "    tmp = np.zeros((N))\n",
    "    for i in range(0,N):\n",
    "        #tmp[i] = integrate.quad(lambda y: heat_kernel(grid_[j], y, gamma, 1), 0, grid[i])[0]#\n",
    "        tmp[i] = integrate.fixed_quad(heat_kernel, 0, grid[i], (grid_[j], gamma, 1), 70)[0]\n",
    "        #tmp[i] = integrate.quadrature(heat_kernel, 0, grid[i], (grid_[j], gamma, 1), tol=0.02, maxiter=70)[0]\n",
    "    norm_dat[:,j] = tmp\n"
   ]
  },
  {
   "cell_type": "code",
   "execution_count": 86,
   "metadata": {},
   "outputs": [],
   "source": [
    "theta = 0.001\n",
    "recon_kernel_grid = np.zeros((N,n))\n",
    "recon_kernel_grid = np.linalg.solve(matrix, norm_dat)\n",
    "#recon_kernel_grid = np.linalg.solve(matrix+theta*np.eye(N), norm_dat)\n"
   ]
  },
  {
   "cell_type": "code",
   "execution_count": 87,
   "metadata": {
    "scrolled": true
   },
   "outputs": [
    {
     "name": "stdout",
     "output_type": "stream",
     "text": [
      "0.0\n"
     ]
    }
   ],
   "source": [
    "data = []\n",
    "for i in range(0,N):\n",
    "    data.append(integrate.quad(lambda x: f(x), 0, grid[i])[0])\n",
    "data = np.array(data)\n",
    "\n",
    "g = data\n",
    "print(np.linalg.norm(g-data)/np.linalg.norm(data))\n",
    "g = np.reshape(g, (N,1))"
   ]
  },
  {
   "cell_type": "code",
   "execution_count": 88,
   "metadata": {},
   "outputs": [],
   "source": [
    "gamma = 0.06\n",
    "#calculation of the right hand side of the normal equation\n",
    "n = 100\n",
    "grid_ = np.arange(0,1,1/n)#recongrid\n",
    "norm_dat_ = np.zeros((N,n))\n",
    "for j in range(0,n):#size of the recon_grid\n",
    "    tmp = np.zeros((N))\n",
    "    for i in range(0,N):\n",
    "        #tmp[i] = integrate.quad(lambda y: heat_kernel(grid_[j], y, gamma, 1), 0, grid[i])[0]#\n",
    "        tmp[i] = integrate.fixed_quad(heat_kernel, 0, grid[i], (grid_[j], gamma, 1), 70)[0]\n",
    "        #tmp[i] = integrate.quadrature(heat_kernel, 0, grid[i], (grid_[j], gamma, 1), tol=0.02, maxiter=70)[0]\n",
    "    norm_dat_[:,j] = tmp\n"
   ]
  },
  {
   "cell_type": "code",
   "execution_count": 89,
   "metadata": {},
   "outputs": [],
   "source": [
    "theta = 0.001\n",
    "recon_kernel_grid_ = np.zeros((N,n))\n",
    "recon_kernel_grid_ = np.linalg.solve(matrix, norm_dat_)\n",
    "#recon_kernel_grid_ = np.linalg.solve(matrix+theta*np.eye(N), norm_dat_)\n"
   ]
  },
  {
   "cell_type": "code",
   "execution_count": 90,
   "metadata": {},
   "outputs": [
    {
     "name": "stdout",
     "output_type": "stream",
     "text": [
      "0.05\n"
     ]
    }
   ],
   "source": [
    "epsilon = (np.random.rand(1,N)-0.5)\n",
    "epsilon = np.reshape(epsilon, (N))\n",
    "epsilon = (epsilon/np.linalg.norm(epsilon))*np.linalg.norm(data)*0.05\n",
    "g_ = data+epsilon\n",
    "print(np.linalg.norm(g_-data)/np.linalg.norm(data))\n",
    "g_ = np.reshape(g_, (N,1))"
   ]
  },
  {
   "cell_type": "code",
   "execution_count": 91,
   "metadata": {},
   "outputs": [],
   "source": [
    "\n",
    "solution_grid = np.transpose(g)@recon_kernel_grid\n",
    "solution_grid_ = np.transpose(g_)@recon_kernel_grid_\n"
   ]
  },
  {
   "cell_type": "code",
   "execution_count": 92,
   "metadata": {},
   "outputs": [
    {
     "name": "stdout",
     "output_type": "stream",
     "text": [
      "0.013509843376527258\n"
     ]
    },
    {
     "data": {
      "image/png": "[encoded data removed]",
      "text/plain": [
       "<Figure size 432x288 with 1 Axes>"
      ]
     },
     "metadata": {
      "needs_background": "light"
     },
     "output_type": "display_data"
    }
   ],
   "source": [
    "import matplotlib.pyplot as plt\n",
    "solution_grid_ = np.reshape(solution_grid_, (n))\n",
    "\n",
    "plt.plot(grid_, solution_grid_, label='Exact solution')\n",
    "true_function = []\n",
    "for val in grid_:\n",
    "    true_function.append(f(val))\n",
    "plt.plot(grid_, true_function, label='Original function')\n",
    "plt.xlabel('x-Value')\n",
    "plt.ylabel('Function value')\n",
    "plt.legend()\n",
    "print(np.linalg.norm(np.array(true_function)-solution_grid))"
   ]
  },
  {
   "cell_type": "code",
   "execution_count": 93,
   "metadata": {},
   "outputs": [
    {
     "data": {
      "image/png": "[encoded data removed]",
      "text/plain": [
       "<Figure size 540x216 with 2 Axes>"
      ]
     },
     "metadata": {
      "needs_background": "light"
     },
     "output_type": "display_data"
    }
   ],
   "source": [
    "import matplotlib.pyplot as plt\n",
    "solution_grid = np.reshape(solution_grid, (n))\n",
    "solution_grid_ = np.reshape(solution_grid_, (n))\n",
    "fig, axs = plt.subplots(1, 2, figsize=(7.5, 3), sharey=True)\n",
    "fig.subplots_adjust(bottom=0.2,right=0.93)\n",
    "axs[0].plot(grid_, solution_grid, label='Exact solution')\n",
    "axs[0].plot(grid_, true_function, label='Original function')\n",
    "axs[1].plot(grid_, solution_grid_, label='Solution with 5% noise')\n",
    "axs[1].plot(grid_, true_function, label='Original function')\n",
    "\n",
    "axs[0].set_xlabel('x-value')\n",
    "axs[0].set_ylabel('Function value')\n",
    "axs[1].set_xlabel('x-value')\n",
    "axs[0].legend()\n",
    "axs[1].legend()\n",
    "#fig.legend()\n",
    "plt.savefig('sin-func_', format='pdf')"
   ]
  },
  {
   "cell_type": "code",
   "execution_count": null,
   "metadata": {},
   "outputs": [],
   "source": []
  }
 ],
 "metadata": {
  "kernelspec": {
   "display_name": "Python 3",
   "language": "python",
   "name": "python3"
  },
  "language_info": {
   "codemirror_mode": {
    "name": "ipython",
    "version": 3
   },
   "file_extension": ".py",
   "mimetype": "text/x-python",
   "name": "python",
   "nbconvert_exporter": "python",
   "pygments_lexer": "ipython3",
   "version": "3.7.4"
  }
 },
 "nbformat": 4,
 "nbformat_minor": 2
}
