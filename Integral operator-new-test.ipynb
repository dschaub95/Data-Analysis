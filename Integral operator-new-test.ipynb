{
 "cells": [
  {
   "cell_type": "code",
   "execution_count": 1,
   "metadata": {},
   "outputs": [],
   "source": [
    "import numpy as np\n",
    "import scipy.integrate as integrate\n",
    "import scipy.special as special"
   ]
  },
  {
   "cell_type": "code",
   "execution_count": 2,
   "metadata": {},
   "outputs": [],
   "source": [
    "def f(x):\n",
    "    if x <= 0.5:\n",
    "        return np.sin(x*3)\n",
    "    else:\n",
    "        return np.sin((1-x)*3)\n"
   ]
  },
  {
   "cell_type": "code",
   "execution_count": null,
   "metadata": {},
   "outputs": [],
   "source": [
    "def f(x):\n",
    "    if x < 0.25:\n",
    "        return x\n",
    "    elif x >= 0.25 and x <= 0.5:\n",
    "        return x+0.5\n",
    "    else:\n",
    "        return 1-(x-0.5)*2"
   ]
  },
  {
   "cell_type": "code",
   "execution_count": 3,
   "metadata": {},
   "outputs": [],
   "source": [
    "def heat_kernel(x, y, gamma, d):\n",
    "    return ((2*np.pi)**(-d/2))*(gamma**(-d))*np.exp((-(x-y)**2)/(2*gamma**2))"
   ]
  },
  {
   "cell_type": "code",
   "execution_count": 4,
   "metadata": {},
   "outputs": [],
   "source": [
    "N = 1000\n",
    "grid = np.arange(0,1,1/N)#datagrid\n"
   ]
  },
  {
   "cell_type": "code",
   "execution_count": 5,
   "metadata": {},
   "outputs": [],
   "source": [
    "\n",
    "matrix = np.zeros((N, N))\n",
    "\n",
    "for i in range(0,N):\n",
    "    for j in range(0,N):\n",
    "        if i < j:\n",
    "            matrix[i,j] = grid[i]\n",
    "        else:\n",
    "            matrix[i,j] = grid[j]\n",
    "        "
   ]
  },
  {
   "cell_type": "code",
   "execution_count": 6,
   "metadata": {},
   "outputs": [],
   "source": [
    "gamma = 0.039\n",
    "#calculation of the right hand side of the normal equation\n",
    "n = 100\n",
    "grid_ = np.arange(0,1,1/n)#recongrid\n",
    "norm_dat_ = np.zeros((N,n))\n",
    "for j in range(0,n):#size of the recon_grid\n",
    "    tmp = np.zeros((N))\n",
    "    for i in range(0,N):\n",
    "        #tmp[i] = integrate.quad(lambda y: heat_kernel(grid_[j], y, gamma, 1), 0, grid[i])[0]#\n",
    "        tmp[i] = integrate.fixed_quad(heat_kernel, 0, grid[i], (grid_[j], gamma, 1), 70)[0]\n",
    "        #tmp[i] = integrate.quadrature(heat_kernel, 0, grid[i], (grid_[j], gamma, 1), tol=0.02, maxiter=70)[0]\n",
    "    norm_dat_[:,j] = tmp\n"
   ]
  },
  {
   "cell_type": "code",
   "execution_count": 7,
   "metadata": {},
   "outputs": [],
   "source": [
    "theta = 0.001\n",
    "recon_kernel_grid_ = np.zeros((N,n))\n",
    "\n",
    "recon_kernel_grid_ = np.linalg.solve(matrix+theta*np.eye(N), norm_dat_)\n"
   ]
  },
  {
   "cell_type": "code",
   "execution_count": 9,
   "metadata": {},
   "outputs": [
    {
     "name": "stdout",
     "output_type": "stream",
     "text": [
      "0.5000000000000001\n"
     ]
    }
   ],
   "source": [
    "data = []\n",
    "for i in range(0,N):\n",
    "    data.append(integrate.quad(lambda x: f(x), 0, grid[i])[0])\n",
    "data = np.array(data)\n",
    "epsilon = (np.random.rand(1,N)-0.5)\n",
    "epsilon = np.reshape(epsilon, (N))\n",
    "epsilon = (epsilon/np.linalg.norm(epsilon))*np.linalg.norm(data)*0.5\n",
    "g_ = data+epsilon\n",
    "print(np.linalg.norm(g_-data)/np.linalg.norm(data))\n",
    "g_ = np.reshape(g_, (N,1))"
   ]
  },
  {
   "cell_type": "code",
   "execution_count": 10,
   "metadata": {},
   "outputs": [],
   "source": [
    "\n",
    "#solution_grid = np.transpose(g)@recon_kernel_grid\n",
    "solution_grid_ = np.transpose(g_)@recon_kernel_grid_\n"
   ]
  },
  {
   "cell_type": "code",
   "execution_count": 12,
   "metadata": {},
   "outputs": [
    {
     "data": {
      "text/plain": [
       "<matplotlib.legend.Legend at 0x7f417950ff50>"
      ]
     },
     "execution_count": 12,
     "metadata": {},
     "output_type": "execute_result"
    },
    {
     "data": {
      "image/png": "[encoded data removed]",
      "text/plain": [
       "<Figure size 432x288 with 1 Axes>"
      ]
     },
     "metadata": {
      "needs_background": "light"
     },
     "output_type": "display_data"
    }
   ],
   "source": [
    "import matplotlib.pyplot as plt\n",
    "solution_grid_ = np.reshape(solution_grid_, (n))\n",
    "\n",
    "plt.plot(grid_, solution_grid_, label='Exact solution')\n",
    "true_function = []\n",
    "for val in grid_:\n",
    "    true_function.append(f(val))\n",
    "plt.plot(grid_, true_function, label='Original function')\n",
    "plt.xlabel('x-Value')\n",
    "plt.ylabel('Function value')\n",
    "plt.legend()\n"
   ]
  },
  {
   "cell_type": "code",
   "execution_count": null,
   "metadata": {},
   "outputs": [],
   "source": [
    "import matplotlib.pyplot as plt\n",
    "solution_grid = np.reshape(solution_grid, (n))\n",
    "solution_grid_ = np.reshape(solution_grid_, (n))\n",
    "fig, axs = plt.subplots(1, 2, figsize=(9, 3), sharey=True)\n",
    "axs[0].plot(grid_, solution_grid, label='Exact solution')\n",
    "axs[0].plot(grid_, true_function, label='Original function')\n",
    "axs[1].plot(grid_, solution_grid_, label='Solution with 5% noise')\n",
    "axs[1].plot(grid_, true_function, label='Original function')\n",
    "fig.legend()\n"
   ]
  },
  {
   "cell_type": "code",
   "execution_count": null,
   "metadata": {},
   "outputs": [],
   "source": [
    "values = np.arange(0.001,0.08,0.001)\n",
    "error = []\n",
    "for gamma in values:\n",
    "    #calculation of the right hand side of the normal equation\n",
    "    n = 100\n",
    "    grid_ = np.arange(0,1,1/n)#recongrid\n",
    "    norm_dat = np.zeros((N,n))\n",
    "    for j in range(0,n):#size of the recon_grid\n",
    "        tmp = np.zeros((N))\n",
    "        for i in range(0,N):\n",
    "            #tmp[i] = integrate.quad(lambda y: heat_kernel(grid_[j], y, gamma, 1), 0, grid[i])[0]#\n",
    "            tmp[i] = integrate.fixed_quad(heat_kernel, 0, grid[i], (grid_[j], gamma, 1), 70)[0]\n",
    "            #tmp[i] = integrate.quadrature(heat_kernel, 0, grid[i], (grid_[j], gamma, 1), tol=0.02, maxiter=70)[0]\n",
    "        norm_dat[:,j] = tmp\n",
    "    #####\n",
    "    theta = 0.001\n",
    "    recon_kernel_grid = np.zeros((N,n))\n",
    "\n",
    "    recon_kernel_grid = np.linalg.solve(matrix+theta*np.eye(N), norm_dat)\n",
    "    #####\n",
    "    epsilon = []\n",
    "    epsilon = (np.random.rand(1,N)-0.5)\n",
    "    ###\n",
    "    data = []\n",
    "    for i in range(0,N):\n",
    "        data.append(integrate.quad(lambda x: f(x), 0, grid[i])[0])\n",
    "    data = np.array(data)\n",
    "    epsilon = np.array(epsilon)\n",
    "    epsilon = np.reshape(epsilon, (N))\n",
    "    epsilon = (epsilon/np.linalg.norm(epsilon))*np.linalg.norm(g)*0.05\n",
    "    g = data+epsilon\n",
    "    g = np.reshape(g, (N,1))\n",
    "    \n",
    "    solution_grid = np.transpose(g)@recon_kernel_grid\n",
    "    solution_grid = np.reshape(solution_grid, (n))\n",
    "    true_function = []\n",
    "    for val in grid_:\n",
    "        true_function.append(f(val))\n",
    "    error.append(np.linalg.norm(np.array(true_function)-solution_grid))"
   ]
  },
  {
   "cell_type": "code",
   "execution_count": null,
   "metadata": {},
   "outputs": [],
   "source": [
    "\n",
    "plt.plot(values[10::], error[10::])\n",
    "plt.plot(x, y, 'bo', markersize=3, label='Data')\n",
    "plt.plot(x, model_poly(theta, x), label='Model')\n",
    "plt.plot(x, np.sin(np.pi*2*x), label='Sinus')\n",
    "plt.xlabel('X-Value')\n",
    "plt.ylabel('Y-Value')\n",
    "plt.legend()\n",
    "plt.savefig('Graph', format='pdf')"
   ]
  }
 ],
 "metadata": {
  "kernelspec": {
   "display_name": "Python 3",
   "language": "python",
   "name": "python3"
  },
  "language_info": {
   "codemirror_mode": {
    "name": "ipython",
    "version": 3
   },
   "file_extension": ".py",
   "mimetype": "text/x-python",
   "name": "python",
   "nbconvert_exporter": "python",
   "pygments_lexer": "ipython3",
   "version": "3.7.4"
  }
 },
 "nbformat": 4,
 "nbformat_minor": 2
}
