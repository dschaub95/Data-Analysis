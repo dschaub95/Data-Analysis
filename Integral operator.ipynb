{
 "cells": [
  {
   "cell_type": "code",
   "execution_count": 278,
   "metadata": {},
   "outputs": [],
   "source": [
    "import numpy as np\n",
    "import scipy.integrate as integrate\n",
    "import scipy.special as special"
   ]
  },
  {
   "cell_type": "code",
   "execution_count": 279,
   "metadata": {},
   "outputs": [],
   "source": [
    "def f(x):\n",
    "    if x <= 0.5:\n",
    "        return np.sin(x*3)\n",
    "    else:\n",
    "        return np.sin((1-x)*3)\n"
   ]
  },
  {
   "cell_type": "code",
   "execution_count": 280,
   "metadata": {},
   "outputs": [],
   "source": [
    "def char_func(x, z):\n",
    "    if x <= z:\n",
    "        return 1\n",
    "    else:\n",
    "        return 0"
   ]
  },
  {
   "cell_type": "code",
   "execution_count": 281,
   "metadata": {},
   "outputs": [],
   "source": [
    "def heat_kernel(x, y, gamma, d):\n",
    "    return ((2*np.pi)**(-d/2))*(gamma**(-d))*np.exp((-(x-y)**2)/(2*gamma**2))"
   ]
  },
  {
   "cell_type": "code",
   "execution_count": 282,
   "metadata": {},
   "outputs": [],
   "source": [
    "def char_moll(x, y, gamma):\n",
    "    if np.abs(x-y) <= gamma:\n",
    "        return 1/(2*gamma)\n",
    "    else:\n",
    "        return 0\n"
   ]
  },
  {
   "cell_type": "code",
   "execution_count": 283,
   "metadata": {},
   "outputs": [],
   "source": [
    "N = 1000\n",
    "grid = np.arange(0,1,1/N)\n"
   ]
  },
  {
   "cell_type": "code",
   "execution_count": 284,
   "metadata": {},
   "outputs": [],
   "source": [
    "\n",
    "matrix = np.zeros((N, N))\n",
    "\n",
    "for i in range(0,N):\n",
    "    for j in range(0,N):\n",
    "        if i < j:\n",
    "            matrix[i,j] = grid[i]\n",
    "        else:\n",
    "            matrix[i,j] = grid[j]\n",
    "        "
   ]
  },
  {
   "cell_type": "code",
   "execution_count": 285,
   "metadata": {},
   "outputs": [],
   "source": [
    "gamma = 0.01\n",
    "n = 100\n",
    "grid_ = np.arange(0,1,1/n)\n",
    "norm_dat = np.zeros((N,n))\n",
    "for j in range(0,n):\n",
    "    tmp = np.zeros((N))\n",
    "    for i in range(0,N):\n",
    "        tmp[i] = integrate.quad(lambda y: heat_kernel(grid_[j], y, gamma, 1), 0, grid[i])[0]\n",
    "    norm_dat[:,j] = tmp\n"
   ]
  },
  {
   "cell_type": "code",
   "execution_count": 286,
   "metadata": {},
   "outputs": [],
   "source": [
    "theta = 0.001\n",
    "recon_kernel_grid = np.zeros((N,n))\n",
    "\n",
    "recon_kernel_grid = np.linalg.solve(matrix+theta*np.eye(N), norm_dat)\n"
   ]
  },
  {
   "cell_type": "code",
   "execution_count": 304,
   "metadata": {},
   "outputs": [],
   "source": [
    "N = 1000\n",
    "epsilon = []\n",
    "for i in range(0,N):\n",
    "    if i <= N/2:\n",
    "        epsilon.append((np.random.rand(1,1)-0.5)*2*0.05*(2*i/N))\n",
    "    else:\n",
    "        epsilon.append((np.random.rand(1,1)-0.5)*2*0.05*(2*((N/2)-i)/N))\n",
    "#epsilon = (np.random.rand(1,N)-0.5)*2*0.05\n",
    "data = []\n",
    "for i in range(0,N):\n",
    "    data.append(integrate.quad(lambda x: f(x), 0, grid[i])[0])\n",
    "data = np.array(data)\n",
    "epsilon = np.array(epsilon)\n",
    "epsilon = np.reshape(epsilon, (1000))\n",
    "g = data+epsilon\n",
    "g = np.reshape(g, (N,1))"
   ]
  },
  {
   "cell_type": "code",
   "execution_count": 305,
   "metadata": {},
   "outputs": [],
   "source": [
    "\n",
    "solution_grid = np.transpose(g)@recon_kernel_grid\n",
    "\n"
   ]
  },
  {
   "cell_type": "code",
   "execution_count": 306,
   "metadata": {},
   "outputs": [
    {
     "data": {
      "text/plain": [
       "[<matplotlib.lines.Line2D at 0x7fb2f9992a50>]"
      ]
     },
     "execution_count": 306,
     "metadata": {},
     "output_type": "execute_result"
    },
    {
     "data": {
      "image/png": "[encoded data removed]",
      "text/plain": [
       "<Figure size 432x288 with 1 Axes>"
      ]
     },
     "metadata": {
      "needs_background": "light"
     },
     "output_type": "display_data"
    }
   ],
   "source": [
    "import matplotlib.pyplot as plt\n",
    "solution_grid = np.reshape(solution_grid, (n))\n",
    "plt.plot(grid_, solution_grid)\n",
    "true_function = []\n",
    "for val in grid_:\n",
    "    true_function.append(f(val))\n",
    "plt.plot(grid_, true_function)"
   ]
  },
  {
   "cell_type": "code",
   "execution_count": 256,
   "metadata": {},
   "outputs": [],
   "source": [
    "N = 100000\n",
    "grid = np.arange(0,1,1/N)\n",
    "epsilon = (np.random.rand(1,N)-0.5)*0.02\n",
    "data = []\n",
    "for i in range(0,N):\n",
    "    data.append(integrate.quad(lambda x: f(x), 0, grid[i])[0])\n",
    "\n",
    "g = data#+epsilon\n",
    "g = np.reshape(g, (N,1))"
   ]
  },
  {
   "cell_type": "code",
   "execution_count": 273,
   "metadata": {},
   "outputs": [],
   "source": [
    "g = data+epsilon\n",
    "g = np.reshape(g, (N,1))"
   ]
  },
  {
   "cell_type": "code",
   "execution_count": 274,
   "metadata": {},
   "outputs": [],
   "source": [
    "def sol(x, g, gamma):\n",
    "    N = g.shape[0]\n",
    "    x1 = np.floor(N*(x+gamma))/N\n",
    "    x2 = np.floor(N*(x-gamma))/N\n",
    "\n",
    "    if int(x1*N)+1 <= N-1:\n",
    "        \n",
    "        return (1/(2*gamma))*((g[int(x1*N)]+((g[int(x1*N)+1]-g[int(x1*N)])*N*(x+gamma-x1)))-(g[int(x2*N)]+((g[int(x2*N)+1]-g[int(x2*N)])*N*(x-gamma-x2))))\n",
    "    else:\n",
    "        return 0"
   ]
  },
  {
   "cell_type": "code",
   "execution_count": 275,
   "metadata": {},
   "outputs": [],
   "source": [
    "direct_sol = []\n",
    "grid_ = np.arange(0,1,1/N)\n",
    "for val in grid_:\n",
    "    direct_sol.append(sol(val, g, 0.04))"
   ]
  },
  {
   "cell_type": "code",
   "execution_count": 276,
   "metadata": {},
   "outputs": [
    {
     "data": {
      "text/plain": [
       "[<matplotlib.lines.Line2D at 0x7fb2f38e3e90>]"
      ]
     },
     "execution_count": 276,
     "metadata": {},
     "output_type": "execute_result"
    },
    {
     "data": {
      "image/png": "[encoded data removed]",
      "text/plain": [
       "<Figure size 432x288 with 1 Axes>"
      ]
     },
     "metadata": {
      "needs_background": "light"
     },
     "output_type": "display_data"
    }
   ],
   "source": [
    "plt.plot(grid_[10000:90000], direct_sol[10000:90000])"
   ]
  },
  {
   "cell_type": "code",
   "execution_count": null,
   "metadata": {},
   "outputs": [],
   "source": []
  },
  {
   "cell_type": "code",
   "execution_count": null,
   "metadata": {},
   "outputs": [],
   "source": []
  }
 ],
 "metadata": {
  "kernelspec": {
   "display_name": "Python 3",
   "language": "python",
   "name": "python3"
  },
  "language_info": {
   "codemirror_mode": {
    "name": "ipython",
    "version": 3
   },
   "file_extension": ".py",
   "mimetype": "text/x-python",
   "name": "python",
   "nbconvert_exporter": "python",
   "pygments_lexer": "ipython3",
   "version": "3.7.4"
  }
 },
 "nbformat": 4,
 "nbformat_minor": 2
}
