{
 "cells": [
  {
   "cell_type": "code",
   "execution_count": 1,
   "metadata": {},
   "outputs": [],
   "source": [
    "import numpy as np\n",
    "import scipy.integrate as integrate\n",
    "import scipy.special as special"
   ]
  },
  {
   "cell_type": "code",
   "execution_count": 2,
   "metadata": {},
   "outputs": [],
   "source": [
    "def f(x):\n",
    "    if x <= 0.5:\n",
    "        return np.sin(x*3)\n",
    "    else:\n",
    "        return np.sin((1-x)*3)\n"
   ]
  },
  {
   "cell_type": "code",
   "execution_count": 3,
   "metadata": {},
   "outputs": [],
   "source": [
    "def heat_kernel(x, y, gamma, d):\n",
    "    return ((2*np.pi)**(-d/2))*(gamma**(-d))*np.exp((-(x-y)**2)/(2*gamma**2))"
   ]
  },
  {
   "cell_type": "code",
   "execution_count": 4,
   "metadata": {},
   "outputs": [],
   "source": [
    "N = 1000\n",
    "grid = np.arange(1/N,1,1/N)#datagrid\n"
   ]
  },
  {
   "cell_type": "code",
   "execution_count": 5,
   "metadata": {},
   "outputs": [],
   "source": [
    "N = 999\n",
    "matrix = np.zeros((N, N))\n",
    "\n",
    "for i in range(0,N):\n",
    "    for j in range(0,N):\n",
    "        if i < j:\n",
    "            matrix[i,j] = grid[i]\n",
    "        else:\n",
    "            matrix[i,j] = grid[j]\n",
    "        "
   ]
  },
  {
   "cell_type": "code",
   "execution_count": 16,
   "metadata": {},
   "outputs": [],
   "source": [
    "values = np.arange(0.002,0.1,0.002)\n",
    "error = []\n",
    "for gamma in values:\n",
    "    #calculation of the right hand side of the normal equation\n",
    "    n = 100\n",
    "    grid_ = np.arange(0.001,1,1/n)#recongrid\n",
    "    norm_dat = np.zeros((N,n))\n",
    "    for j in range(0,n):#size of the recon_grid\n",
    "        tmp = np.zeros((N))\n",
    "        for i in range(0,N):\n",
    "            #tmp[i] = integrate.quad(lambda y: heat_kernel(grid_[j], y, gamma, 1), 0, grid[i])[0]#\n",
    "            tmp[i] = integrate.fixed_quad(heat_kernel, 0, grid[i], (grid_[j], gamma, 1), 70)[0]\n",
    "            #tmp[i] = integrate.quadrature(heat_kernel, 0, grid[i], (grid_[j], gamma, 1), tol=0.02, maxiter=70)[0]\n",
    "        norm_dat[:,j] = tmp\n",
    "    #####\n",
    "    theta = 0.001\n",
    "    recon_kernel_grid = np.zeros((N,n))\n",
    "    recon_kernel_grid = np.linalg.solve(matrix, norm_dat)\n",
    "    #recon_kernel_grid = np.linalg.solve(matrix+theta*np.eye(N), norm_dat)\n",
    "    #####\n",
    "    epsilon = (np.random.rand(1,N)-0.5)\n",
    "    ###\n",
    "    data = []\n",
    "    for i in range(0,N):\n",
    "        data.append(integrate.quad(lambda x: f(x), 0, grid[i])[0])\n",
    "    data = np.array(data)\n",
    "    epsilon = np.reshape(epsilon, (N))\n",
    "    epsilon = (epsilon/np.linalg.norm(epsilon))*np.linalg.norm(data)*0.00\n",
    "    g = data+epsilon\n",
    "    g = np.reshape(g, (N,1))\n",
    "    solution_grid = np.transpose(g)@recon_kernel_grid\n",
    "    solution_grid = np.reshape(solution_grid, (n))\n",
    "    true_function = []\n",
    "    for val in grid_:\n",
    "        true_function.append(f(val))\n",
    "    error.append(np.linalg.norm(np.array(true_function)-solution_grid))\n",
    "\n"
   ]
  },
  {
   "cell_type": "code",
   "execution_count": 17,
   "metadata": {},
   "outputs": [],
   "source": [
    "values_ = np.arange(0.002,0.12,0.002)\n",
    "error_ = []\n",
    "for gamma in values_:\n",
    "    #calculation of the right hand side of the normal equation\n",
    "    n = 100\n",
    "    grid_ = np.arange(0.001,1,1/n)#recongrid\n",
    "    norm_dat = np.zeros((N,n))\n",
    "    for j in range(0,n):#size of the recon_grid\n",
    "        tmp = np.zeros((N))\n",
    "        for i in range(0,N):\n",
    "            #tmp[i] = integrate.quad(lambda y: heat_kernel(grid_[j], y, gamma, 1), 0, grid[i])[0]#\n",
    "            tmp[i] = integrate.fixed_quad(heat_kernel, 0, grid[i], (grid_[j], gamma, 1), 70)[0]\n",
    "            #tmp[i] = integrate.quadrature(heat_kernel, 0, grid[i], (grid_[j], gamma, 1), tol=0.02, maxiter=70)[0]\n",
    "        norm_dat[:,j] = tmp\n",
    "    #####\n",
    "    theta = 0.001\n",
    "    recon_kernel_grid = np.zeros((N,n))\n",
    "    recon_kernel_grid = np.linalg.solve(matrix, norm_dat)\n",
    "    #recon_kernel_grid = np.linalg.solve(matrix+theta*np.eye(N), norm_dat)\n",
    "    #####\n",
    "    epsilon = (np.random.rand(1,N)-0.5)\n",
    "    ###\n",
    "    data = []\n",
    "    for i in range(0,N):\n",
    "        data.append(integrate.quad(lambda x: f(x), 0, grid[i])[0])\n",
    "    data = np.array(data)\n",
    "    epsilon = np.reshape(epsilon, (N))\n",
    "    epsilon = (epsilon/np.linalg.norm(epsilon))*np.linalg.norm(data)*0.05\n",
    "    g = data+epsilon\n",
    "    g = np.reshape(g, (N,1))\n",
    "    \n",
    "    solution_grid = np.transpose(g)@recon_kernel_grid\n",
    "    solution_grid = np.reshape(solution_grid, (n))\n",
    "    true_function = []\n",
    "    for val in grid_:\n",
    "        true_function.append(f(val))\n",
    "    error_.append(np.linalg.norm(np.array(true_function)-solution_grid))\n"
   ]
  },
  {
   "cell_type": "code",
   "execution_count": 20,
   "metadata": {},
   "outputs": [
    {
     "data": {
      "image/png": "[encoded data removed]",
      "text/plain": [
       "<Figure size 540x216 with 2 Axes>"
      ]
     },
     "metadata": {
      "needs_background": "light"
     },
     "output_type": "display_data"
    }
   ],
   "source": [
    "import matplotlib.pyplot as plt\n",
    "fig, axs = plt.subplots(1, 2, figsize=(7.5, 3))\n",
    "fig.subplots_adjust(bottom=0.2,right=0.93)\n",
    "axs[0].plot(values[0::], error[0::], label='Exact')\n",
    "\n",
    "axs[1].plot(values_[5::], error_[5::], label='5% noise')\n",
    "\n",
    "\n",
    "axs[0].set_xlabel('Gamma')\n",
    "axs[0].set_ylabel('Norm error')\n",
    "axs[1].set_xlabel('Gamma')\n",
    "\n",
    "axs[0].legend()\n",
    "axs[1].legend()\n",
    "#fig.legend()\n",
    "plt.savefig('gamma_optim_', format='pdf')"
   ]
  },
  {
   "cell_type": "code",
   "execution_count": null,
   "metadata": {},
   "outputs": [],
   "source": []
  }
 ],
 "metadata": {
  "kernelspec": {
   "display_name": "Python 3",
   "language": "python",
   "name": "python3"
  },
  "language_info": {
   "codemirror_mode": {
    "name": "ipython",
    "version": 3
   },
   "file_extension": ".py",
   "mimetype": "text/x-python",
   "name": "python",
   "nbconvert_exporter": "python",
   "pygments_lexer": "ipython3",
   "version": "3.7.4"
  }
 },
 "nbformat": 4,
 "nbformat_minor": 2
}
